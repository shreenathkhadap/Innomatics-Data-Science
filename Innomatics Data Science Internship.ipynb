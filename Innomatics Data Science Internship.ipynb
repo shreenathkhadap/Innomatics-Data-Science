{
 "cells": [
  {
   "cell_type": "markdown",
   "id": "6fa5a035",
   "metadata": {},
   "source": [
    "# Hackathon - Building a Movie Recommendation System\n"
   ]
  },
  {
   "cell_type": "markdown",
   "id": "38295351",
   "metadata": {},
   "source": [
    "Problem statement-Assume that you started working with Netfiz as a Junior Data Scientist. For your company, providing better movie recommendations is at its core and, helps improve better user experience and generate more revenue. \n",
    "\n",
    "Understand that:\n",
    "\n",
    "Recommender systems make movie-watching a personalized adventure, delighting users with tailored suggestions based on their tastes.\n",
    "By predicting user preferences, these systems keep users engaged, driving increased interaction with your platform.\n",
    "A robust movie recommender system translates to business success. Satisfied users are loyal users, contributing to increased user retention and revenue.\n",
    "Imagine the excitement of helping users discover their next favorite movie! Later during the internship program, we will ask you to create a cutting-edge movie recommendation system based on a treasure trove of user ratings. "
   ]
  },
  {
   "cell_type": "markdown",
   "id": "a02af0ca",
   "metadata": {},
   "source": [
    "Q-1 Download the data from the above link. How many \".csv\" files are available in the dataset?\n"
   ]
  },
  {
   "cell_type": "code",
   "execution_count": 1,
   "id": "374fe419",
   "metadata": {},
   "outputs": [
    {
     "name": "stdout",
     "output_type": "stream",
     "text": [
      "The number of \".csv\" files in the dataset is: 4\n"
     ]
    }
   ],
   "source": [
    "\n",
    "import os\n",
    "# To Specify the directory where your CSV files are located\n",
    "directory = 'C:/Users/MANISH DHOREPATIL/Desktop/Innomatics Data Science'\n",
    "files = os.listdir(directory)\n",
    "\n",
    "# Count the number of CSV files\n",
    "csv_files = [file for file in files if file.endswith(\".csv\")]\n",
    "num_csv_files = len(csv_files)\n",
    "\n",
    "# Print the result of csv\n",
    "print(f'The number of \".csv\" files in the dataset is: {num_csv_files}')\n"
   ]
  },
  {
   "cell_type": "markdown",
   "id": "d50ed512",
   "metadata": {},
   "source": [
    "Q-2 What is the shape of \"movies.csv\"?\n",
    "\n"
   ]
  },
  {
   "cell_type": "code",
   "execution_count": 2,
   "id": "c49fe04f",
   "metadata": {},
   "outputs": [
    {
     "name": "stdout",
     "output_type": "stream",
     "text": [
      "The shape of \"movies.csv\" is: (9742, 3)\n"
     ]
    }
   ],
   "source": [
    "import pandas as pd\n",
    "\n",
    "# Load movies.csv into a DataFrame\n",
    "movies = pd.read_csv('C:/Users/MANISH DHOREPATIL/Desktop/Innomatics Data Science/movies.csv')\n",
    "\n",
    "# Check the shape of the DataFrame\n",
    "shape_of_movies = movies.shape\n",
    "\n",
    "# Print the result\n",
    "print(f'The shape of \"movies.csv\" is: {shape_of_movies}')\n"
   ]
  },
  {
   "cell_type": "markdown",
   "id": "60575d7d",
   "metadata": {},
   "source": [
    "Q-3 What is the shape of \"ratings.csv\"?\n"
   ]
  },
  {
   "cell_type": "code",
   "execution_count": 3,
   "id": "da56ea6a",
   "metadata": {},
   "outputs": [
    {
     "name": "stdout",
     "output_type": "stream",
     "text": [
      "The shape of \"ratings.csv\" is: (100836, 4)\n"
     ]
    }
   ],
   "source": [
    "import pandas as pd\n",
    "\n",
    "# Load ratings.csv into a DataFrame\n",
    "ratings = pd.read_csv('C:/Users/MANISH DHOREPATIL/Desktop/Innomatics Data Science/ratings.csv')\n",
    "\n",
    "# Check the shape of the DataFrame\n",
    "shape_of_ratings = ratings.shape\n",
    "\n",
    "# Print the result\n",
    "print(f'The shape of \"ratings.csv\" is: {shape_of_ratings}')\n"
   ]
  },
  {
   "cell_type": "markdown",
   "id": "c078033f",
   "metadata": {},
   "source": [
    "Q-4 How many unique \"userId\" are available in \"ratings.csv\"?\n"
   ]
  },
  {
   "cell_type": "code",
   "execution_count": 4,
   "id": "8dd9d36d",
   "metadata": {},
   "outputs": [
    {
     "name": "stdout",
     "output_type": "stream",
     "text": [
      "The number of unique \"userId\" values in \"ratings.csv\" is: 610\n"
     ]
    }
   ],
   "source": [
    "import pandas as pd\n",
    "\n",
    "# Load ratings.csv into a DataFrame\n",
    "ratings = pd.read_csv('C:/Users/MANISH DHOREPATIL/Desktop/Innomatics Data Science/ratings.csv')\n",
    "\n",
    "# Get the number of unique userId values\n",
    "unique_user_ids = ratings['userId'].nunique()\n",
    "\n",
    "# Print the result\n",
    "print(f'The number of unique \"userId\" values in \"ratings.csv\" is: {unique_user_ids}')\n"
   ]
  },
  {
   "cell_type": "markdown",
   "id": "40ac772c",
   "metadata": {},
   "source": [
    "Q-5 Which movie has recieved maximum number of user ratings?"
   ]
  },
  {
   "cell_type": "code",
   "execution_count": 5,
   "id": "614b5b62",
   "metadata": {
    "scrolled": true
   },
   "outputs": [
    {
     "name": "stdout",
     "output_type": "stream",
     "text": [
      "The movie with the maximum number of user ratings is: Forrest Gump (1994)\n"
     ]
    }
   ],
   "source": [
    "import pandas as pd\n",
    "\n",
    "# Load ratings.csv into a DataFrame\n",
    "ratings = pd.read_csv('C:/Users/MANISH DHOREPATIL/Desktop/Innomatics Data Science/ratings.csv')\n",
    "\n",
    "# Group ratings by movieId and count the number of ratings for each movie\n",
    "movie_ratings_count = ratings.groupby('movieId').size()\n",
    "\n",
    "max_ratings_movie_id = movie_ratings_count.idxmax()\n",
    "\n",
    "# Load movies.csv to get the movie title corresponding to the movieId\n",
    "movies = pd.read_csv('C:/Users/MANISH DHOREPATIL/Desktop/Innomatics Data Science/movies.csv')\n",
    "max_ratings_movie_title = movies.loc[movies['movieId'] == max_ratings_movie_id, 'title'].values[0]\n",
    "\n",
    "\n",
    "print(f'The movie with the maximum number of user ratings is: {max_ratings_movie_title}')\n"
   ]
  },
  {
   "cell_type": "markdown",
   "id": "d7688ca1",
   "metadata": {},
   "source": [
    "Q-6 Select all the correct tags submitted by users to \"Matrix, The (1999)\" movie?"
   ]
  },
  {
   "cell_type": "code",
   "execution_count": 6,
   "id": "1b0d4448",
   "metadata": {},
   "outputs": [
    {
     "name": "stdout",
     "output_type": "stream",
     "text": [
      "The tags for \"Matrix, The (1999)\" are:\n",
      "['martial arts', 'sci-fi', 'alternate universe', 'philosophy', 'post apocalyptic']\n"
     ]
    }
   ],
   "source": [
    "import pandas as pd\n",
    "\n",
    "tags = pd.read_csv('C:/Users/MANISH DHOREPATIL/Desktop/Innomatics Data Science/tags.csv')\n",
    "\n",
    "movies = pd.read_csv('C:/Users/MANISH DHOREPATIL/Desktop/Innomatics Data Science/movies.csv')\n",
    "matrix_movie_id = movies.loc[movies['title'] == 'Matrix, The (1999)', 'movieId'].values[0]\n",
    "\n",
    "# Filter tags for the specified movieId\n",
    "matrix_tags = tags[tags['movieId'] == matrix_movie_id]\n",
    "\n",
    "# Print the list of tags\n",
    "print(f'The tags for \"Matrix, The (1999)\" are:\\n{matrix_tags[\"tag\"].tolist()}')\n"
   ]
  },
  {
   "cell_type": "code",
   "execution_count": 9,
   "id": "8e1b2490",
   "metadata": {},
   "outputs": [
    {
     "ename": "SyntaxError",
     "evalue": "invalid syntax (3377458934.py, line 1)",
     "output_type": "error",
     "traceback": [
      "\u001b[1;36m  Input \u001b[1;32mIn [9]\u001b[1;36m\u001b[0m\n\u001b[1;33m    Q-7 What is the average user rating for movie named \"Terminator 2: Judgment Day (1991)\"?\u001b[0m\n\u001b[1;37m        ^\u001b[0m\n\u001b[1;31mSyntaxError\u001b[0m\u001b[1;31m:\u001b[0m invalid syntax\n"
     ]
    }
   ],
   "source": [
    "Q-7 What is the average user rating for movie named \"Terminator 2: Judgment Day (1991)\"?"
   ]
  },
  {
   "cell_type": "code",
   "execution_count": 8,
   "id": "78df2926",
   "metadata": {},
   "outputs": [
    {
     "name": "stdout",
     "output_type": "stream",
     "text": [
      "The average user rating for \"Terminator 2: Judgment Day (1991)\" is: 3.97\n"
     ]
    }
   ],
   "source": [
    "import pandas as pd\n",
    "\n",
    "# Load ratings.csv into a DataFrame\n",
    "ratings = pd.read_csv('C:/Users/MANISH DHOREPATIL/Desktop/Innomatics Data Science/ratings.csv')\n",
    "\n",
    "# Load movies.csv to get the movieId for \"Terminator 2: Judgment Day (1991)\"\n",
    "movies = pd.read_csv('C:/Users/MANISH DHOREPATIL/Desktop/Innomatics Data Science/movies.csv')\n",
    "terminator_movie_id = movies.loc[movies['title'] == 'Terminator 2: Judgment Day (1991)', 'movieId'].values[0]\n",
    "\n",
    "# Filter ratings for the specified movieId\n",
    "terminator_ratings = ratings[ratings['movieId'] == terminator_movie_id]\n",
    "\n",
    "# Calculate the average user rating\n",
    "average_rating = terminator_ratings['rating'].mean()\n",
    "\n",
    "# Print the result\n",
    "print(f'The average user rating for \"Terminator 2: Judgment Day (1991)\" is: {average_rating:.2f}')\n"
   ]
  },
  {
   "cell_type": "markdown",
   "id": "e233e784",
   "metadata": {},
   "source": [
    "Q-8 How does the data distribution of user ratings for \"Fight Club (1999)\" movie looks like?"
   ]
  },
  {
   "cell_type": "code",
   "execution_count": 10,
   "id": "e9121837",
   "metadata": {},
   "outputs": [
    {
     "name": "stdout",
     "output_type": "stream",
     "text": [
      "Requirement already satisfied: numpy in c:\\users\\manish dhorepatil\\anaconda3\\lib\\site-packages (1.26.3)\n",
      "Note: you may need to restart the kernel to use updated packages.\n"
     ]
    }
   ],
   "source": [
    "pip install --upgrade numpy\n"
   ]
  },
  {
   "cell_type": "code",
   "execution_count": 11,
   "id": "c6a9f530",
   "metadata": {},
   "outputs": [
    {
     "name": "stdout",
     "output_type": "stream",
     "text": [
      "Requirement already satisfied: numpy in c:\\users\\manish dhorepatil\\anaconda3\\lib\\site-packages (1.26.3)\n",
      "Note: you may need to restart the kernel to use updated packages.\n"
     ]
    }
   ],
   "source": [
    "\n",
    "pip install --upgrade numpy\n"
   ]
  },
  {
   "cell_type": "markdown",
   "id": "a094e9eb",
   "metadata": {},
   "source": [
    "Q-9 Which movie is the most popular based on  average user ratings"
   ]
  },
  {
   "cell_type": "code",
   "execution_count": 12,
   "id": "d866cb43",
   "metadata": {},
   "outputs": [
    {
     "name": "stdout",
     "output_type": "stream",
     "text": [
      "The most popular movie based on average user ratings is: Shawshank Redemption, The (1994)\n"
     ]
    }
   ],
   "source": [
    "import pandas as pd\n",
    "\n",
    "# Assuming you have already loaded the 'ratings.csv' and 'movies.csv' data\n",
    "ratings = pd.read_csv('C:/Users/MANISH DHOREPATIL/Desktop/Innomatics Data Science/ratings.csv')\n",
    "movies = pd.read_csv('C:/Users/MANISH DHOREPATIL/Desktop/Innomatics Data Science/movies.csv')\n",
    "\n",
    "# Step 1: Group user ratings based on movieId and apply aggregation operations\n",
    "grouped_ratings = ratings.groupby('movieId')['rating'].agg(['count', 'mean']).reset_index()\n",
    "\n",
    "# Step 2: Apply inner join on dataframe created from movies.csv and the grouped df\n",
    "merged_data = pd.merge(movies, grouped_ratings, on='movieId', how='inner')\n",
    "\n",
    "# Step 3: Filter only those movies with more than 50 user ratings\n",
    "popular_movies = merged_data[merged_data['count'] > 50]\n",
    "\n",
    "# Identify the movie with the highest average rating\n",
    "most_popular_movie = popular_movies.loc[popular_movies['mean'].idxmax(), 'title']\n",
    "\n",
    "# Print the result\n",
    "print(f'The most popular movie based on average user ratings is: {most_popular_movie}')\n",
    "\n"
   ]
  },
  {
   "cell_type": "code",
   "execution_count": null,
   "id": "6f396168",
   "metadata": {},
   "outputs": [],
   "source": [
    "Q 10- Select all the correct options which comes under top 5 popular movies based on number of user ratings."
   ]
  },
  {
   "cell_type": "code",
   "execution_count": 13,
   "id": "15026a7a",
   "metadata": {},
   "outputs": [
    {
     "name": "stdout",
     "output_type": "stream",
     "text": [
      "Top 5 popular movies based on number of user ratings:\n",
      "                                 title  count\n",
      "314                Forrest Gump (1994)    329\n",
      "277   Shawshank Redemption, The (1994)    317\n",
      "257                Pulp Fiction (1994)    307\n",
      "510   Silence of the Lambs, The (1991)    279\n",
      "1938                Matrix, The (1999)    278\n"
     ]
    }
   ],
   "source": [
    "# Assuming you have already loaded the 'ratings.csv' and 'movies.csv' data\n",
    "ratings = pd.read_csv('C:/Users/MANISH DHOREPATIL/Desktop/Innomatics Data Science/ratings.csv')\n",
    "movies = pd.read_csv('C:/Users/MANISH DHOREPATIL/Desktop/Innomatics Data Science/movies.csv')\n",
    "\n",
    "# Step 1: Group user ratings based on movieId and apply aggregation operations\n",
    "grouped_ratings = ratings.groupby('movieId')['rating'].agg(['count', 'mean']).reset_index()\n",
    "\n",
    "# Step 2: Apply inner join on dataframe created from movies.csv and the grouped df\n",
    "merged_data = pd.merge(movies, grouped_ratings, on='movieId', how='inner')\n",
    "\n",
    "# Step 3: Filter only those movies with more than 50 user ratings\n",
    "popular_movies = merged_data[merged_data['count'] > 50]\n",
    "\n",
    "# Select top 5 popular movies based on number of user ratings\n",
    "top_5_popular_movies = popular_movies.nlargest(5, 'count')\n",
    "\n",
    "# Print the result\n",
    "print('Top 5 popular movies based on number of user ratings:')\n",
    "print(top_5_popular_movies[['title', 'count']])\n"
   ]
  },
  {
   "cell_type": "code",
   "execution_count": 14,
   "id": "229d9b44",
   "metadata": {},
   "outputs": [],
   "source": [
    "Q 11- Which Sci-Fi movie is \"third most popular\" based on the number of user ratings?"
   ]
  },
  {
   "cell_type": "code",
   "execution_count": null,
   "id": "0507af1c",
   "metadata": {},
   "outputs": [],
   "source": [
    "Q 11- Which Sci-Fi movie is \"third most popular\" based on the number of user ratings"
   ]
  },
  {
   "cell_type": "code",
   "execution_count": 23,
   "id": "b76846cc",
   "metadata": {},
   "outputs": [
    {
     "name": "stdout",
     "output_type": "stream",
     "text": [
      "The third most popular Sci-Fi movie based on the number of user ratings is: Jurassic Park (1993)\n"
     ]
    }
   ],
   "source": [
    "# Assuming you have already loaded the 'ratings.csv' and 'movies.csv' data\n",
    "ratings = pd.read_csv('C:/Users/MANISH DHOREPATIL/Desktop/Innomatics Data Science/ratings.csv')\n",
    "movies = pd.read_csv('C:/Users/MANISH DHOREPATIL/Desktop/Innomatics Data Science/movies.csv')\n",
    "\n",
    "# Step 1: Group user ratings based on movieId and apply aggregation operations\n",
    "grouped_ratings = ratings.groupby('movieId')['rating'].agg(['count', 'mean']).reset_index()\n",
    "\n",
    "# Step 2: Apply inner join on dataframe created from movies.csv and the grouped df\n",
    "merged_data = pd.merge(movies, grouped_ratings, on='movieId', how='inner')\n",
    "\n",
    "# Step 3: Filter only those movies with more than 50 user ratings\n",
    "popular_movies = merged_data[merged_data['count'] > 50]\n",
    "\n",
    "# Filter Sci-Fi movies\n",
    "sci_fi_movies = popular_movies[popular_movies['genres'].str.contains('Sci-Fi')]\n",
    "\n",
    "# Find the third most popular Sci-Fi movie based on the number of user ratings\n",
    "third_most_popular_sci_fi = sci_fi_movies.nlargest(3, 'count').iloc[-1]\n",
    "\n",
    "# Print the result\n",
    "print(f'The third most popular Sci-Fi movie based on the number of user ratings is: {third_most_popular_sci_fi[\"title\"]}')\n"
   ]
  },
  {
   "cell_type": "code",
   "execution_count": null,
   "id": "b400df2b",
   "metadata": {},
   "outputs": [],
   "source": [
    "Q 12- Mention the movieId of the movie which has the highest IMDB rating.\n"
   ]
  },
  {
   "cell_type": "code",
   "execution_count": 15,
   "id": "0313e165",
   "metadata": {},
   "outputs": [],
   "source": [
    "import requests\n",
    "import numpy as np\n",
    "from bs4 import BeautifulSoup\n"
   ]
  },
  {
   "cell_type": "code",
   "execution_count": 16,
   "id": "3cf44b3a",
   "metadata": {},
   "outputs": [
    {
     "name": "stdout",
     "output_type": "stream",
     "text": [
      "Requirement already satisfied: requests in c:\\users\\manish dhorepatil\\anaconda3\\lib\\site-packages (2.27.1)\n",
      "Requirement already satisfied: numpy in c:\\users\\manish dhorepatil\\anaconda3\\lib\\site-packages (1.26.3)\n",
      "Requirement already satisfied: beautifulsoup4 in c:\\users\\manish dhorepatil\\anaconda3\\lib\\site-packages (4.11.1)\n",
      "Requirement already satisfied: certifi>=2017.4.17 in c:\\users\\manish dhorepatil\\anaconda3\\lib\\site-packages (from requests) (2021.10.8)\n",
      "Requirement already satisfied: charset-normalizer~=2.0.0 in c:\\users\\manish dhorepatil\\anaconda3\\lib\\site-packages (from requests) (2.0.4)\n",
      "Requirement already satisfied: idna<4,>=2.5 in c:\\users\\manish dhorepatil\\anaconda3\\lib\\site-packages (from requests) (3.3)\n",
      "Requirement already satisfied: urllib3<1.27,>=1.21.1 in c:\\users\\manish dhorepatil\\anaconda3\\lib\\site-packages (from requests) (1.26.9)\n",
      "Requirement already satisfied: soupsieve>1.2 in c:\\users\\manish dhorepatil\\anaconda3\\lib\\site-packages (from beautifulsoup4) (2.3.1)\n"
     ]
    }
   ],
   "source": [
    "!pip install requests numpy beautifulsoup4\n"
   ]
  },
  {
   "cell_type": "code",
   "execution_count": 18,
   "id": "19cea829",
   "metadata": {},
   "outputs": [],
   "source": [
    "import requests\n",
    "import numpy as np\n",
    "from bs4 import BeautifulSoup\n",
    "\n",
    "def scrapper(imdbId):\n",
    "    id = str(int(imdbId))\n",
    "    n_zeroes = 7 - len(id)\n",
    "    new_id = \"0\" * n_zeroes + id\n",
    "    URL = f\"https://www.imdb.com/title/tt{new_id}/\"\n",
    "    request_header = {'Content-Type': 'text/html; charset=UTF-8',\n",
    "                      'User-Agent': 'Mozilla/5.0 (Windows NT 10.0; Win64; x64; rv:109.0) Gecko/20100101 Firefox/119.0',\n",
    "                      'Accept-Encoding': 'gzip, deflate, br'}\n",
    "    response = requests.get(URL, headers=request_header)\n",
    "    soup = BeautifulSoup(response.text, 'html.parser')\n",
    "    imdb_rating = soup.find('span', attrs={'itemprop': 'ratingValue'})\n",
    "    return imdb_rating.text if imdb_rating else np.nan\n"
   ]
  },
  {
   "cell_type": "markdown",
   "id": "10caecaa",
   "metadata": {},
   "source": [
    "Q13- Mention the movieId of the \"Sci-Fi\" movie which has the highest IMDB rating."
   ]
  },
  {
   "cell_type": "code",
   "execution_count": null,
   "id": "61ffac12",
   "metadata": {},
   "outputs": [],
   "source": [
    "# Create a new column 'imdb_rating' in 'sci_fi_movies' DataFrame\n",
    "sci_fi_movies['imdb_rating'] = sci_fi_movies['imdbId'].apply(scrapper)\n",
    "\n",
    "# Find the movieId with the highest IMDb rating\n",
    "highest_rated_movie_id = sci_fi_movies.loc[sci_fi_movies['imdb_rating'].idxmax(), 'movieId']\n",
    "\n",
    "# Print the result\n",
    "print(f\"The Sci-Fi movie with the highest IMDb rating has movieId: {highest_rated_movie_id}\")"
   ]
  }
 ],
 "metadata": {
  "kernelspec": {
   "display_name": "Python 3 (ipykernel)",
   "language": "python",
   "name": "python3"
  },
  "language_info": {
   "codemirror_mode": {
    "name": "ipython",
    "version": 3
   },
   "file_extension": ".py",
   "mimetype": "text/x-python",
   "name": "python",
   "nbconvert_exporter": "python",
   "pygments_lexer": "ipython3",
   "version": "3.9.12"
  }
 },
 "nbformat": 4,
 "nbformat_minor": 5
}
